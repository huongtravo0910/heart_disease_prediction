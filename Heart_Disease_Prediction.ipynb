{
  "nbformat": 4,
  "nbformat_minor": 0,
  "metadata": {
    "colab": {
      "provenance": [],
      "authorship_tag": "ABX9TyMbRAkUTBdcaSTrPf4GbekA",
      "include_colab_link": true
    },
    "kernelspec": {
      "name": "python3",
      "display_name": "Python 3"
    },
    "language_info": {
      "name": "python"
    }
  },
  "cells": [
    {
      "cell_type": "markdown",
      "metadata": {
        "id": "view-in-github",
        "colab_type": "text"
      },
      "source": [
        "<a href=\"https://colab.research.google.com/github/huongtravo0910/heart_disease_prediction/blob/feature%2Fheart_disease_prediction/Heart_Disease_Prediction.ipynb\" target=\"_parent\"><img src=\"https://colab.research.google.com/assets/colab-badge.svg\" alt=\"Open In Colab\"/></a>"
      ]
    },
    {
      "cell_type": "markdown",
      "source": [
        "### **Download data**"
      ],
      "metadata": {
        "id": "P3tmVPcamFt6"
      }
    },
    {
      "cell_type": "code",
      "execution_count": 2,
      "metadata": {
        "colab": {
          "base_uri": "https://localhost:8080/"
        },
        "id": "msX9X97yi4qm",
        "outputId": "af0e861c-355b-4660-a4ee-b7b209149142"
      },
      "outputs": [
        {
          "output_type": "stream",
          "name": "stdout",
          "text": [
            "Downloading...\n",
            "From: https://drive.google.com/uc?id=1zOj808OstnkaWlltM4qKNjjT3iT3yeMN\n",
            "To: /content/cleveland.csv\n",
            "\r  0% 0.00/10.9k [00:00<?, ?B/s]\r100% 10.9k/10.9k [00:00<00:00, 20.9MB/s]\n"
          ]
        }
      ],
      "source": [
        "!gdown 1zOj808OstnkaWlltM4qKNjjT3iT3yeMN"
      ]
    },
    {
      "cell_type": "markdown",
      "source": [
        "### **Data analysis**"
      ],
      "metadata": {
        "id": "GNJOIOD9moeR"
      }
    },
    {
      "cell_type": "code",
      "source": [
        "import numpy as np\n",
        "import pandas as pd\n",
        "from matplotlib import pyplot as plt\n",
        "import matplotlib.pyplot as plt\n",
        "import seaborn as sns\n",
        "\n",
        "# Bai tap 1\n",
        "df = pd.read_csv('cleveland.csv', header = None)\n",
        "df.columns = ['age', 'sex', 'cp', 'trestbps', 'chol',\n",
        "'fbs', 'restecg', 'thalach', 'exang',\n",
        "'oldpeak', 'slope', 'ca', 'thal', 'target']\n",
        "\n",
        "# Process data, handle null\n",
        "df['target'] = df.target.map({0: 0 , 1: 1 , 2: 1 , 3: 1 , 4: 1}) # target = 1 ngụ ý rằng người đó đang bị bệnh tim và target = 0 ngụ ý rằng người đó không bị bệnh tim.\n",
        "df['thal'] = df.thal.fillna(df.thal.mean())\n",
        "df['ca'] = df.ca.fillna(df.ca.mean())\n",
        "\n",
        "\n",
        "# distribution of target vs age\n",
        "sns.set_context('paper', font_scale=1, rc = {'font.size':3, 'axis.titlesize':15,'axis.labelsize':10})\n",
        "ax = sns.catplot(kind=\"count\", data = df, x=\"age\", hue=\"target\", order = df['age'].sort_values().unique(),)\n",
        "ax.ax.set_xticks(np.arange(0,80,5))\n",
        "plt.title('Distribution of age vs target')\n",
        "\n",
        "plt.show()"
      ],
      "metadata": {
        "colab": {
          "base_uri": "https://localhost:8080/",
          "height": 637
        },
        "id": "W3EXvqOaogGh",
        "outputId": "d9e4efb0-a269-47ae-9a08-1422de3de7ec"
      },
      "execution_count": 35,
      "outputs": [
        {
          "output_type": "stream",
          "name": "stderr",
          "text": [
            "/usr/local/lib/python3.10/dist-packages/seaborn/_base.py:949: FutureWarning: When grouping with a length-1 list-like, you will need to pass a length-1 tuple to get_group in a future version of pandas. Pass `(name,)` instead of `name` to silence this warning.\n",
            "  data_subset = grouped_data.get_group(pd_key)\n",
            "/usr/local/lib/python3.10/dist-packages/seaborn/_base.py:949: FutureWarning: When grouping with a length-1 list-like, you will need to pass a length-1 tuple to get_group in a future version of pandas. Pass `(name,)` instead of `name` to silence this warning.\n",
            "  data_subset = grouped_data.get_group(pd_key)\n"
          ]
        },
        {
          "output_type": "display_data",
          "data": {
            "text/plain": [
              "<Figure size 551.75x500 with 1 Axes>"
            ],
            "image/png": "[encoded data removed]"
          },
          "metadata": {}
        }
      ]
    },
    {
      "cell_type": "code",
      "source": [
        "sns.catplot(data=df, kind ='bar',x='sex', y='age', hue='target')\n",
        "plt.title('Distribution of age vs sex with the target class')\n",
        "plt.show()"
      ],
      "metadata": {
        "colab": {
          "base_uri": "https://localhost:8080/",
          "height": 637
        },
        "id": "mzM5Gr83rTDt",
        "outputId": "b8bd1349-d6d3-48ba-e9cc-ffa59d347001"
      },
      "execution_count": 36,
      "outputs": [
        {
          "output_type": "stream",
          "name": "stderr",
          "text": [
            "/usr/local/lib/python3.10/dist-packages/seaborn/_base.py:949: FutureWarning: When grouping with a length-1 list-like, you will need to pass a length-1 tuple to get_group in a future version of pandas. Pass `(name,)` instead of `name` to silence this warning.\n",
            "  data_subset = grouped_data.get_group(pd_key)\n",
            "/usr/local/lib/python3.10/dist-packages/seaborn/_base.py:949: FutureWarning: When grouping with a length-1 list-like, you will need to pass a length-1 tuple to get_group in a future version of pandas. Pass `(name,)` instead of `name` to silence this warning.\n",
            "  data_subset = grouped_data.get_group(pd_key)\n"
          ]
        },
        {
          "output_type": "display_data",
          "data": {
            "text/plain": [
              "<Figure size 551.75x500 with 1 Axes>"
            ],
            "image/png": "[encoded data removed]"
          },
          "metadata": {}
        }
      ]
    },
    {
      "cell_type": "markdown",
      "source": [
        "### **Use KNN to predict**"
      ],
      "metadata": {
        "id": "Lb8vI8kKuatS"
      }
    },
    {
      "cell_type": "code",
      "source": [
        "from sklearn.neighbors import KNeighborsClassifier\n",
        "from sklearn.metrics import accuracy_score, classification_report, confusion_matrix\n",
        "\n",
        "from sklearn.model_selection import train_test_split\n",
        "\n",
        "X = df.iloc[: , : -1].values\n",
        "y = df.iloc[: , -1].values\n",
        "X_train, X_test, y_train, y_test = train_test_split (X , y , test_size = 0.2, random_state = 42)\n",
        "\n",
        "\n",
        "# Initialize the KNN model with the given parameters\n",
        "knn = KNeighborsClassifier(n_neighbors=5,\n",
        "                           weights='uniform', # đánh trọng số, trong trường hợp n là bội số của số lượng feature, với weight là distance thì điểm nào gần target thì trọng số lớn hơn\n",
        "                           algorithm='auto',\n",
        "                           leaf_size=30, # relate to KDTree\n",
        "                           p=2, # tính khoảng cách l2 (euclidean)\n",
        "                           metric='minkowski')\n",
        "\n",
        "# Train the model\n",
        "knn.fit(X_train, y_train)\n",
        "\n",
        "# Make predictions\n",
        "y_pred = knn.predict(X_test)\n",
        "y_pred_train = knn.predict(X_train)\n",
        "\n",
        "# Evaluate the model\n",
        "cm_test = confusion_matrix(y_test, y_pred)\n",
        "cm_train = confusion_matrix(y_train, y_pred_train)\n",
        "accuracy_for_train = np.round((cm_train[0][0] + cm_train[1][1]) /len( y_train ) ,2)\n",
        "accuracy_for_test = np.round((cm_test[0][0] + cm_test[1][1]) /len( y_test ) ,2)\n",
        "print (\"Accuracy for training set for KNeighborsClassifier = {}\".format(accuracy_for_train))\n",
        "print (\"Accuracy for test set for KNeighborsClassifier = {}\".format(accuracy_for_test))\n"
      ],
      "metadata": {
        "colab": {
          "base_uri": "https://localhost:8080/"
        },
        "id": "C8lY2FZTvHbn",
        "outputId": "ff7aeb36-0212-4de9-f0dc-0161402f7a2c"
      },
      "execution_count": 41,
      "outputs": [
        {
          "output_type": "stream",
          "name": "stdout",
          "text": [
            "Accuracy for training set for KNN = 0.76\n",
            "Accuracy for test set for KNN = 0.69\n"
          ]
        }
      ]
    },
    {
      "cell_type": "markdown",
      "source": [
        "### **Use SVM**"
      ],
      "metadata": {
        "id": "K56pWy583S8w"
      }
    },
    {
      "cell_type": "code",
      "source": [
        "from sklearn.svm import SVC\n",
        "\n",
        "svc = SVC(kernel='rbf', random_state=42)\n",
        "\n",
        "svc.fit(X_train, y_train)\n",
        "\n",
        "y_pred = svc.predict(X_test)\n",
        "y_pred_train = svc.predict(X_train)\n",
        "\n",
        "cm_test = confusion_matrix(y_test, y_pred)\n",
        "cm_train = confusion_matrix(y_train, y_pred_train)\n",
        "accuracy_for_train = np.round((cm_train[0][0] + cm_train[1][1]) /len( y_train ) ,2)\n",
        "accuracy_for_test = np.round((cm_test[0][0] + cm_test[1][1]) /len( y_test ) ,2)\n",
        "print (\"Accuracy for training set for SVM = {}\".format(accuracy_for_train))\n",
        "print (\"Accuracy for test set for SVM = {}\".format(accuracy_for_test))"
      ],
      "metadata": {
        "colab": {
          "base_uri": "https://localhost:8080/"
        },
        "id": "3nlt0aF13WSv",
        "outputId": "f03b780c-610f-4564-90c3-413fa3884015"
      },
      "execution_count": 44,
      "outputs": [
        {
          "output_type": "stream",
          "name": "stdout",
          "text": [
            "Accuracy for training set for SVM = 0.66\n",
            "Accuracy for test set for SVM = 0.67\n"
          ]
        }
      ]
    },
    {
      "cell_type": "markdown",
      "source": [
        "### **Naive Bayes**\n"
      ],
      "metadata": {
        "id": "yFw7AH117k-1"
      }
    },
    {
      "cell_type": "code",
      "source": [
        "from sklearn.naive_bayes import GaussianNB\n",
        "\n",
        "nb = GaussianNB()\n",
        "nb.fit(X_train, y_train)\n",
        "\n",
        "\n",
        "y_pred = nb.predict(X_test)\n",
        "y_pred_train = nb.predict(X_train)\n",
        "\n",
        "cm_test = confusion_matrix(y_test, y_pred)\n",
        "cm_train = confusion_matrix(y_train, y_pred_train)\n",
        "accuracy_for_train = np.round((cm_train[0][0] + cm_train[1][1]) /len( y_train ) ,2)\n",
        "accuracy_for_test = np.round((cm_test[0][0] + cm_test[1][1]) /len( y_test ) ,2)\n",
        "print (\"Accuracy for training set for GaussianNB = {}\".format(accuracy_for_train))\n",
        "print (\"Accuracy for test set for GaussianNB = {}\".format(accuracy_for_test))"
      ],
      "metadata": {
        "colab": {
          "base_uri": "https://localhost:8080/"
        },
        "id": "kaWucXnv7qr6",
        "outputId": "56d7c251-d443-43d9-d7b9-b9b8bd2e9679"
      },
      "execution_count": 45,
      "outputs": [
        {
          "output_type": "stream",
          "name": "stdout",
          "text": [
            "Accuracy for training set for GaussianNB = 0.85\n",
            "Accuracy for test set for GaussianNB = 0.84\n"
          ]
        }
      ]
    },
    {
      "cell_type": "markdown",
      "source": [
        "### **Decision Tree**"
      ],
      "metadata": {
        "id": "d-K_nxrc8_NV"
      }
    },
    {
      "cell_type": "code",
      "source": [
        "from sklearn.tree import DecisionTreeClassifier\n",
        "\n",
        "dt = DecisionTreeClassifier(criterion='gini', max_depth=10, min_samples_split=2, random_state=42)\n",
        "dt.fit(X_train, y_train)\n",
        "\n",
        "\n",
        "y_pred = dt.predict(X_test)\n",
        "y_pred_train = dt.predict(X_train)\n",
        "\n",
        "cm_test = confusion_matrix(y_test, y_pred)\n",
        "cm_train = confusion_matrix(y_train, y_pred_train)\n",
        "accuracy_for_train = np.round((cm_train[0][0] + cm_train[1][1]) /len( y_train ) ,2)\n",
        "accuracy_for_test = np.round((cm_test[0][0] + cm_test[1][1]) /len( y_test ) ,2)\n",
        "print (\"Accuracy for training set for DecisionTree = {}\".format(accuracy_for_train))\n",
        "print (\"Accuracy for test set for DecisionTree = {}\".format(accuracy_for_test))"
      ],
      "metadata": {
        "colab": {
          "base_uri": "https://localhost:8080/"
        },
        "id": "IzDkOEYIE8r9",
        "outputId": "621d4af5-82b4-439b-b687-2d3489a5259b"
      },
      "execution_count": 52,
      "outputs": [
        {
          "output_type": "stream",
          "name": "stdout",
          "text": [
            "Accuracy for training set for DecisionTree = 1.0\n",
            "Accuracy for test set for DecisionTree = 0.75\n"
          ]
        }
      ]
    },
    {
      "cell_type": "markdown",
      "source": [
        "### **Random Forest**"
      ],
      "metadata": {
        "id": "j4wlqhs6HMAb"
      }
    },
    {
      "cell_type": "code",
      "source": [
        "from sklearn.ensemble import RandomForestClassifier\n",
        "\n",
        "rf = RandomForestClassifier(criterion='gini', max_depth=10, min_samples_split=2, random_state=42)\n",
        "rf.fit(X_train, y_train)\n",
        "\n",
        "\n",
        "y_pred = rf.predict(X_test)\n",
        "y_pred_train = rf.predict(X_train)\n",
        "\n",
        "cm_test = confusion_matrix(y_test, y_pred)\n",
        "cm_train = confusion_matrix(y_train, y_pred_train)\n",
        "accuracy_for_train = np.round((cm_train[0][0] + cm_train[1][1]) /len( y_train ) ,2)\n",
        "accuracy_for_test = np.round((cm_test[0][0] + cm_test[1][1]) /len( y_test ) ,2)\n",
        "print (\"Accuracy for training set for Random Forest = {}\".format(accuracy_for_train))\n",
        "print (\"Accuracy for test set for Random Forest = {}\".format(accuracy_for_test))"
      ],
      "metadata": {
        "colab": {
          "base_uri": "https://localhost:8080/"
        },
        "id": "tj30afkzHZdD",
        "outputId": "d251b6d1-fd9b-4d29-b900-ed1a5add4d35"
      },
      "execution_count": 54,
      "outputs": [
        {
          "output_type": "stream",
          "name": "stdout",
          "text": [
            "Accuracy for training set for Random Forest = 1.0\n",
            "Accuracy for test set for Random Forest = 0.87\n"
          ]
        }
      ]
    },
    {
      "cell_type": "markdown",
      "source": [
        "### **AdaBoost**"
      ],
      "metadata": {
        "id": "Nb62QQFeJ1L9"
      }
    },
    {
      "cell_type": "code",
      "source": [
        "from sklearn.ensemble import AdaBoostClassifier\n",
        "\n",
        "ab = AdaBoostClassifier(n_estimators=50, learning_rate=1.0, random_state=42)\n",
        "ab.fit(X_train, y_train)\n",
        "\n",
        "\n",
        "y_pred = ab.predict(X_test)\n",
        "y_pred_train = ab.predict(X_train)\n",
        "\n",
        "cm_test = confusion_matrix(y_test, y_pred)\n",
        "cm_train = confusion_matrix(y_train, y_pred_train)\n",
        "accuracy_for_train = np.round((cm_train[0][0] + cm_train[1][1]) /len( y_train ) ,2)\n",
        "accuracy_for_test = np.round((cm_test[0][0] + cm_test[1][1]) /len( y_test ) ,2)\n",
        "print (\"Accuracy for training set for AdaBoost = {}\".format(accuracy_for_train))\n",
        "print (\"Accuracy for test set for AdaBoost = {}\".format(accuracy_for_test))"
      ],
      "metadata": {
        "colab": {
          "base_uri": "https://localhost:8080/"
        },
        "id": "MJjWxEPkJ_vW",
        "outputId": "2989238b-a1f2-474d-fa3f-121308984dfb"
      },
      "execution_count": 67,
      "outputs": [
        {
          "output_type": "stream",
          "name": "stdout",
          "text": [
            "Accuracy for training set for AdaBoost = 0.91\n",
            "Accuracy for test set for AdaBoost = 0.84\n"
          ]
        },
        {
          "output_type": "stream",
          "name": "stderr",
          "text": [
            "/usr/local/lib/python3.10/dist-packages/sklearn/ensemble/_weight_boosting.py:527: FutureWarning: The SAMME.R algorithm (the default) is deprecated and will be removed in 1.6. Use the SAMME algorithm to circumvent this warning.\n",
            "  warnings.warn(\n"
          ]
        }
      ]
    },
    {
      "cell_type": "markdown",
      "source": [
        "## **Gradient Boost**"
      ],
      "metadata": {
        "id": "cH8HNOvVKaV0"
      }
    },
    {
      "cell_type": "code",
      "source": [
        "from sklearn.ensemble import GradientBoostingClassifier\n",
        "\n",
        "gb = GradientBoostingClassifier(n_estimators=50, learning_rate=1.0, random_state=42)\n",
        "gb.fit(X_train, y_train)\n",
        "\n",
        "\n",
        "y_pred = gb.predict(X_test)\n",
        "y_pred_train = gb.predict(X_train)\n",
        "\n",
        "cm_test = confusion_matrix(y_test, y_pred)\n",
        "cm_train = confusion_matrix(y_train, y_pred_train)\n",
        "accuracy_for_train = np.round((cm_train[0][0] + cm_train[1][1]) /len( y_train ) ,2)\n",
        "accuracy_for_test = np.round((cm_test[0][0] + cm_test[1][1]) /len( y_test ) ,2)\n",
        "print (\"Accuracy for training set for Gradient Boost = {}\".format(accuracy_for_train))\n",
        "print (\"Accuracy for test set for Gradient Boost = {}\".format(accuracy_for_test))"
      ],
      "metadata": {
        "colab": {
          "base_uri": "https://localhost:8080/"
        },
        "id": "nfsC6Ks8KkIW",
        "outputId": "86fbe96c-1107-4244-a626-44c511f7a1da"
      },
      "execution_count": 66,
      "outputs": [
        {
          "output_type": "stream",
          "name": "stdout",
          "text": [
            "Accuracy for training set for Gradient Boost = 1.0\n",
            "Accuracy for test set for Gradient Boost = 0.84\n"
          ]
        }
      ]
    },
    {
      "cell_type": "markdown",
      "source": [
        "## **Stacking**"
      ],
      "metadata": {
        "id": "BS5y9LVAKkln"
      }
    },
    {
      "cell_type": "code",
      "source": [
        "from sklearn.ensemble import StackingClassifier\n",
        "\n",
        "\n",
        "dtc = DecisionTreeClassifier(random_state =42)\n",
        "rfc = RandomForestClassifier(random_state =42)\n",
        "knn = KNeighborsClassifier()\n",
        "xgb = XGBClassifier()\n",
        "gc = GradientBoostingClassifier(random_state =42)\n",
        "svc = SVC ( kernel= 'rbf', random_state =42)\n",
        "ad = AdaBoostClassifier(random_state =42)\n",
        "\n",
        "clf = [('dtc', dtc), ('rfc', rfc), ('knn', knn), ('xgb', xgb), ('gc', gc), ('svc', svc), ('ad', ad)]\n",
        "xg = XGBClassifier()\n",
        "classifier = StackingClassifier(estimators = clf, final_estimator=xgb)\n",
        "classifier.fit(X_train, y_train)\n",
        "\n",
        "\n",
        "y_pred = classifier.predict(X_test)\n",
        "y_pred_train = classifier.predict(X_train)\n",
        "\n",
        "cm_test = confusion_matrix(y_test, y_pred)\n",
        "cm_train = confusion_matrix(y_train, y_pred_train)\n",
        "accuracy_for_train = np.round((cm_train[0][0] + cm_train[1][1]) /len( y_train ) ,2)\n",
        "accuracy_for_test = np.round((cm_test[0][0] + cm_test[1][1]) /len( y_test ) ,2)\n",
        "print (\"Accuracy for training set for Stacking = {}\".format(accuracy_for_train))\n",
        "print (\"Accuracy for test set for Stacking = {}\".format(accuracy_for_test))"
      ],
      "metadata": {
        "colab": {
          "base_uri": "https://localhost:8080/"
        },
        "id": "UCgBw6PcKnB_",
        "outputId": "f1f889ef-8caa-47b1-f95c-b0d4db68e194"
      },
      "execution_count": 65,
      "outputs": [
        {
          "output_type": "stream",
          "name": "stderr",
          "text": [
            "/usr/local/lib/python3.10/dist-packages/sklearn/ensemble/_weight_boosting.py:527: FutureWarning: The SAMME.R algorithm (the default) is deprecated and will be removed in 1.6. Use the SAMME algorithm to circumvent this warning.\n",
            "  warnings.warn(\n",
            "/usr/local/lib/python3.10/dist-packages/sklearn/ensemble/_weight_boosting.py:527: FutureWarning: The SAMME.R algorithm (the default) is deprecated and will be removed in 1.6. Use the SAMME algorithm to circumvent this warning.\n",
            "  warnings.warn(\n",
            "/usr/local/lib/python3.10/dist-packages/sklearn/ensemble/_weight_boosting.py:527: FutureWarning: The SAMME.R algorithm (the default) is deprecated and will be removed in 1.6. Use the SAMME algorithm to circumvent this warning.\n",
            "  warnings.warn(\n",
            "/usr/local/lib/python3.10/dist-packages/sklearn/ensemble/_weight_boosting.py:527: FutureWarning: The SAMME.R algorithm (the default) is deprecated and will be removed in 1.6. Use the SAMME algorithm to circumvent this warning.\n",
            "  warnings.warn(\n",
            "/usr/local/lib/python3.10/dist-packages/sklearn/ensemble/_weight_boosting.py:527: FutureWarning: The SAMME.R algorithm (the default) is deprecated and will be removed in 1.6. Use the SAMME algorithm to circumvent this warning.\n",
            "  warnings.warn(\n",
            "/usr/local/lib/python3.10/dist-packages/sklearn/ensemble/_weight_boosting.py:527: FutureWarning: The SAMME.R algorithm (the default) is deprecated and will be removed in 1.6. Use the SAMME algorithm to circumvent this warning.\n",
            "  warnings.warn(\n"
          ]
        },
        {
          "output_type": "stream",
          "name": "stdout",
          "text": [
            "Accuracy for training set for Stacking = 0.98\n",
            "Accuracy for test set for Stacking = 0.89\n"
          ]
        }
      ]
    },
    {
      "cell_type": "markdown",
      "source": [],
      "metadata": {
        "id": "fycmxOopNn3x"
      }
    }
  ]
}